{
 "cells": [
  {
   "cell_type": "code",
   "execution_count": null,
   "id": "0ca81a9a",
   "metadata": {},
   "outputs": [],
   "source": [
    "import os\n",
    "from dotenv import load_dotenv\n",
    "load_dotenv()\n",
    "\n",
    "os.environ['OPENAI_API_KEY']=os.getenv(\"OPENAI_API_KEY\")\n",
    "\n",
    "# Data Loading/ Data Ingestion\n",
    "\n",
    "from langchain_community.document_loaders import PyPDFLoader\n",
    "loader = PyPDFLoader(\"attention.pdf\")\n",
    "docs=loader.load()\n",
    "\n",
    "# Transforming Data in chunks using Recursive Text Splitter\n",
    "\n",
    "from langchain.text_splitter import RecursiveCharacterTextSplitter\n",
    "text_splitter = RecursiveCharacterTextSplitter(chunk_size=1000,chunk_overlap=200)\n",
    "documents = text_splitter.split_documents(docs)\n",
    "documents[:5]\n",
    "\n",
    "# Vector Embeddings and Vector Stores \n",
    "# Converting Text into Vectors(Embeddings) and storing it into the Vector Stores(ChromaDB)\n",
    "from langchain_community.embeddings import OpenAIEmbeddings\n",
    "from langchain_community.vectorstores import Chroma\n",
    "db = Chroma.from_documents(documents,OpenAIEmbeddings())\n",
    "\n",
    "# Finally querying our documents and getting the responses \n",
    "\n",
    "query = \"An attention function can be described as a function\"\n",
    "result=db.similarity_search(query)\n",
    "answer=result[0].page_content\n",
    "answer.replace(\"\\n\",\" \")"
   ]
  }
 ],
 "metadata": {
  "kernelspec": {
   "display_name": "Python 3",
   "language": "python",
   "name": "python3"
  },
  "language_info": {
   "codemirror_mode": {
    "name": "ipython",
    "version": 3
   },
   "file_extension": ".py",
   "mimetype": "text/x-python",
   "name": "python",
   "nbconvert_exporter": "python",
   "pygments_lexer": "ipython3",
   "version": "3.9.1"
  }
 },
 "nbformat": 4,
 "nbformat_minor": 5
}
